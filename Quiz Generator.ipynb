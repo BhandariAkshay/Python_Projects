{
 "cells": [
  {
   "cell_type": "code",
   "execution_count": 3,
   "metadata": {},
   "outputs": [
    {
     "name": "stdout",
     "output_type": "stream",
     "text": [
      "How many quiz files do you want to generate: 30\n",
      "\n",
      "30 Quiz Files and Answer Key Files Generated\n"
     ]
    }
   ],
   "source": [
    "import random\n",
    "\n",
    "# dict of states & their capital\n",
    "capitals = {'andhra pradesh' : 'hyderabad', 'anrunachal pradesh' : 'itanagar', 'assam' : 'dispur',\n",
    "            'bihar' : 'patna', 'chattisgarh' : 'raipur', 'goa' : 'panaji', 'gujarat' : 'gandhinagar',\n",
    "            'haryana' : 'chandigarh', 'himachal pradesh' : 'shimla', 'jharkhand' : 'ranchi',\n",
    "            'karnataka' : 'bengaluru', 'kerala' : 'thiruvananthapuram', 'madhya pradesh' : 'bhopal',\n",
    "            'maharashtra' : 'mumbai', 'manipur' : 'imphal', 'meghalaya' : 'shillong', 'mizoram' : 'aizwal',\n",
    "            'nagaland' : 'kohima', 'odisha' : 'bhubaneshwar', 'punjab' : 'chandigarh', 'rajasthan' : 'jaipur',\n",
    "            'sikkim' : 'gangtok', 'tamil nadu' : 'chennai', 'telangana' : 'hyderabad', 'tripura' : 'agartala',\n",
    "            'uttar pradesh' : 'lucknow', 'uttarakhand' : 'dehradun', 'west bengal' : 'kolkata'}\n",
    "\n",
    "state_list = list(capitals.keys())\n",
    "capital_list = list(capitals.values())\n",
    "\n",
    "path = \"C:\\\\Users\\\\Akshay Bhnadari\\\\Downloads\\\\AI Adventure\\\\Python\\\\projects\\\\quiz\\\\tests\\\\\"\n",
    "\n",
    "quiz_header = \"\"\"1. Name: ________________\n",
    "2. Roll No.: ____________\n",
    "3. Date: ________________\n",
    "\"\"\" + \"\\n\\n\" + \"Geography: State-Capital Quiz\".center(110) + \"\\n\\n\"\n",
    "\n",
    "key_header = \"Geography: State-Capital Answer Key\"\n",
    "\n",
    "try: \n",
    "    n = int(input(\"How many quiz files do you want to generate: \"))\n",
    "\n",
    "    for i in range(n):\n",
    "        quiz_path = path + 'quiz_{}.txt'.format(i+1)\n",
    "        key_path = path + 'key_{}.txt'.format(i+1)\n",
    "        quiz_file = open(quiz_path, 'w')\n",
    "        key_file = open(key_path, 'w')\n",
    "        quiz_file.writelines(quiz_header)\n",
    "        key_file.writelines(key_header)\n",
    "\n",
    "        question_list = random.sample(state_list, 25)\n",
    "        for j, ques in enumerate(question_list):\n",
    "            question = \"\\n\" + str(j+1) + \". The capital of {} is?\\n\".format(ques.title())\n",
    "            correct_ans = []\n",
    "            correct_ans.append(capitals[ques].title())\n",
    "            wrong_options = random.sample(list(filter(lambda ele: ele != correct_ans, question_list)), 3) \n",
    "            ans_list = correct_ans + wrong_options\n",
    "            random.shuffle(ans_list)\n",
    "            quiz_file.write(question)\n",
    "            option = 65\n",
    "            for k, val in enumerate(ans_list):\n",
    "                quiz_file.write(\"\\t{}. {}\\n\".format(chr(option+k), val.title()))\n",
    "\n",
    "            key_file.write(\"\\n{}. Answer is: {}\\n\".format(j+1, correct_ans))\n",
    "\n",
    "    print(\"\\n{} Quiz Files and Answer Key Files Generated\".format(n))\n",
    "    quiz_file.close()\n",
    "    key_file.close()\n",
    "    \n",
    "except:\n",
    "    print(\"Please input an integer value\")\n",
    "    \n",
    "    "
   ]
  }
 ],
 "metadata": {
  "kernelspec": {
   "display_name": "Python 3",
   "language": "python",
   "name": "python3"
  },
  "language_info": {
   "codemirror_mode": {
    "name": "ipython",
    "version": 3
   },
   "file_extension": ".py",
   "mimetype": "text/x-python",
   "name": "python",
   "nbconvert_exporter": "python",
   "pygments_lexer": "ipython3",
   "version": "3.8.3"
  }
 },
 "nbformat": 4,
 "nbformat_minor": 4
}
